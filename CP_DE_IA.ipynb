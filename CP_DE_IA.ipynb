{
  "cells": [
    {
      "cell_type": "markdown",
      "metadata": {
        "id": "wEFlaI9PEoc7"
      },
      "source": [
        "**CP DE IA :)**"
      ]
    },
    {
      "cell_type": "code",
      "execution_count": 1,
      "metadata": {
        "colab": {
          "base_uri": "https://localhost:8080/"
        },
        "id": "iUx8GtH_Ekfi",
        "outputId": "a4ccb8cb-95a1-485d-c56a-9531b68d21ac"
      },
      "outputs": [
        {
          "name": "stdout",
          "output_type": "stream",
          "text": [
            "Collecting transformers\n",
            "  Downloading transformers-4.44.2-py3-none-any.whl.metadata (43 kB)\n",
            "Collecting filelock (from transformers)\n",
            "  Downloading filelock-3.16.1-py3-none-any.whl.metadata (2.9 kB)\n",
            "Collecting huggingface-hub<1.0,>=0.23.2 (from transformers)\n",
            "  Downloading huggingface_hub-0.25.0-py3-none-any.whl.metadata (13 kB)\n",
            "Requirement already satisfied: numpy>=1.17 in c:\\users\\user\\appdata\\local\\packages\\pythonsoftwarefoundation.python.3.11_qbz5n2kfra8p0\\localcache\\local-packages\\python311\\site-packages (from transformers) (1.26.4)\n",
            "Requirement already satisfied: packaging>=20.0 in c:\\users\\user\\appdata\\local\\packages\\pythonsoftwarefoundation.python.3.11_qbz5n2kfra8p0\\localcache\\local-packages\\python311\\site-packages (from transformers) (23.1)\n",
            "Collecting pyyaml>=5.1 (from transformers)\n",
            "  Downloading PyYAML-6.0.2-cp311-cp311-win_amd64.whl.metadata (2.1 kB)\n",
            "Collecting regex!=2019.12.17 (from transformers)\n",
            "  Downloading regex-2024.9.11-cp311-cp311-win_amd64.whl.metadata (41 kB)\n",
            "Requirement already satisfied: requests in c:\\users\\user\\appdata\\local\\packages\\pythonsoftwarefoundation.python.3.11_qbz5n2kfra8p0\\localcache\\local-packages\\python311\\site-packages (from transformers) (2.31.0)\n",
            "Collecting safetensors>=0.4.1 (from transformers)\n",
            "  Downloading safetensors-0.4.5-cp311-none-win_amd64.whl.metadata (3.9 kB)\n",
            "Collecting tokenizers<0.20,>=0.19 (from transformers)\n",
            "  Downloading tokenizers-0.19.1-cp311-none-win_amd64.whl.metadata (6.9 kB)\n",
            "Collecting tqdm>=4.27 (from transformers)\n",
            "  Downloading tqdm-4.66.5-py3-none-any.whl.metadata (57 kB)\n",
            "Collecting fsspec>=2023.5.0 (from huggingface-hub<1.0,>=0.23.2->transformers)\n",
            "  Downloading fsspec-2024.9.0-py3-none-any.whl.metadata (11 kB)\n",
            "Requirement already satisfied: typing-extensions>=3.7.4.3 in c:\\users\\user\\appdata\\local\\packages\\pythonsoftwarefoundation.python.3.11_qbz5n2kfra8p0\\localcache\\local-packages\\python311\\site-packages (from huggingface-hub<1.0,>=0.23.2->transformers) (4.12.1)\n",
            "Requirement already satisfied: colorama in c:\\users\\user\\appdata\\local\\packages\\pythonsoftwarefoundation.python.3.11_qbz5n2kfra8p0\\localcache\\local-packages\\python311\\site-packages (from tqdm>=4.27->transformers) (0.4.6)\n",
            "Requirement already satisfied: charset-normalizer<4,>=2 in c:\\users\\user\\appdata\\local\\packages\\pythonsoftwarefoundation.python.3.11_qbz5n2kfra8p0\\localcache\\local-packages\\python311\\site-packages (from requests->transformers) (3.2.0)\n",
            "Requirement already satisfied: idna<4,>=2.5 in c:\\users\\user\\appdata\\local\\packages\\pythonsoftwarefoundation.python.3.11_qbz5n2kfra8p0\\localcache\\local-packages\\python311\\site-packages (from requests->transformers) (3.4)\n",
            "Requirement already satisfied: urllib3<3,>=1.21.1 in c:\\users\\user\\appdata\\local\\packages\\pythonsoftwarefoundation.python.3.11_qbz5n2kfra8p0\\localcache\\local-packages\\python311\\site-packages (from requests->transformers) (2.0.4)\n",
            "Requirement already satisfied: certifi>=2017.4.17 in c:\\users\\user\\appdata\\local\\packages\\pythonsoftwarefoundation.python.3.11_qbz5n2kfra8p0\\localcache\\local-packages\\python311\\site-packages (from requests->transformers) (2023.7.22)\n",
            "Downloading transformers-4.44.2-py3-none-any.whl (9.5 MB)\n",
            "   ---------------------------------------- 0.0/9.5 MB ? eta -:--:--\n",
            "   ---------------------------------------- 9.5/9.5 MB 73.6 MB/s eta 0:00:00\n",
            "Downloading huggingface_hub-0.25.0-py3-none-any.whl (436 kB)\n",
            "Downloading PyYAML-6.0.2-cp311-cp311-win_amd64.whl (161 kB)\n",
            "Downloading regex-2024.9.11-cp311-cp311-win_amd64.whl (274 kB)\n",
            "Downloading safetensors-0.4.5-cp311-none-win_amd64.whl (285 kB)\n",
            "Downloading tokenizers-0.19.1-cp311-none-win_amd64.whl (2.2 MB)\n",
            "   ---------------------------------------- 0.0/2.2 MB ? eta -:--:--\n",
            "   ---------------------------------------- 2.2/2.2 MB 63.2 MB/s eta 0:00:00\n",
            "Downloading tqdm-4.66.5-py3-none-any.whl (78 kB)\n",
            "Downloading filelock-3.16.1-py3-none-any.whl (16 kB)\n",
            "Downloading fsspec-2024.9.0-py3-none-any.whl (179 kB)\n",
            "Installing collected packages: tqdm, safetensors, regex, pyyaml, fsspec, filelock, huggingface-hub, tokenizers, transformers\n"
          ]
        },
        {
          "name": "stderr",
          "output_type": "stream",
          "text": [
            "ERROR: Could not install packages due to an OSError: [Errno 2] No such file or directory: 'C:\\\\Users\\\\User\\\\AppData\\\\Local\\\\Packages\\\\PythonSoftwareFoundation.Python.3.11_qbz5n2kfra8p0\\\\LocalCache\\\\local-packages\\\\Python311\\\\site-packages\\\\transformers\\\\models\\\\deprecated\\\\trajectory_transformer\\\\convert_trajectory_transformer_original_pytorch_checkpoint_to_pytorch.py'\n",
            "HINT: This error might have occurred since this system does not have Windows Long Path support enabled. You can find information on how to enable this at https://pip.pypa.io/warnings/enable-long-paths\n",
            "\n"
          ]
        }
      ],
      "source": [
        "!pip install transformers\n",
        "!pip install torch"
      ]
    },
    {
      "cell_type": "markdown",
      "metadata": {
        "id": "ImPjJjdEOJDY"
      },
      "source": [
        "CODIGO FUNFANDO ABAIXO"
      ]
    },
    {
      "cell_type": "code",
      "execution_count": 3,
      "metadata": {
        "colab": {
          "base_uri": "https://localhost:8080/"
        },
        "id": "vWSE1EflOIYy",
        "outputId": "f4561d02-65f1-4f90-bfde-9c4e8f1aa419"
      },
      "outputs": [
        {
          "name": "stdout",
          "output_type": "stream",
          "text": [
            "Prompt Seguro:\n",
            "Classificação: 0, Confiança em ser jailbreak: 0.0042\n",
            "Explique a importância da ética na inteligência artificial.\n",
            "\n",
            "Prompt Malicioso:\n",
            "O prompt enviado parece ser uma tentativa de jailbreak. Não será processado. (Confiança: 1.00)\n"
          ]
        }
      ],
      "source": [
        "from transformers import AutoTokenizer, AutoModelForSequenceClassification\n",
        "from transformers import AutoModelForCausalLM, AutoTokenizer\n",
        "import torch\n",
        "\n",
        "classifier_tokenizer = AutoTokenizer.from_pretrained(\"jackhhao/jailbreak-classifier\")\n",
        "classifier_model = AutoModelForSequenceClassification.from_pretrained(\"jackhhao/jailbreak-classifier\")\n",
        "\n",
        "malicious_keywords = [\"hacking\", \"ataque\", \"servidor\", \"exploit\", \"invadir\", \"crack\", \"malware\"]\n",
        "\n",
        "def is_jailbreak(prompt, threshold=0.005):\n",
        "    if any(keyword in prompt.lower() for keyword in malicious_keywords):\n",
        "        return True, 1.0  # Considera jailbreak se houver palavra maliciosa\n",
        "\n",
        "    inputs = classifier_tokenizer(prompt, return_tensors=\"pt\")\n",
        "    outputs = classifier_model(**inputs)\n",
        "    logits = outputs.logits\n",
        "    probabilities = torch.softmax(logits, dim=-1)\n",
        "    class_idx = torch.argmax(probabilities, dim=-1).item()\n",
        "    confidence = probabilities[0][1].item()\n",
        "    print(f\"Classificação: {class_idx}, Confiança em ser jailbreak: {confidence:.4f}\")\n",
        "\n",
        "    return confidence >= threshold, confidence\n",
        "\n",
        "llama_tokenizer = AutoTokenizer.from_pretrained(\"TinyLlama/TinyLlama-1.1B-Chat-v1.0\")\n",
        "llama_model = AutoModelForCausalLM.from_pretrained(\"TinyLlama/TinyLlama-1.1B-Chat-v1.0\")\n",
        "\n",
        "def process_prompt(prompt, threshold=0.005):\n",
        "    jailbreak, confidence = is_jailbreak(prompt, threshold)\n",
        "    if jailbreak:\n",
        "        return f\"O prompt enviado parece ser uma tentativa de jailbreak. Não será processado. (Confiança: {confidence:.2f})\"\n",
        "    else:\n",
        "        inputs = llama_tokenizer(prompt, return_tensors=\"pt\")\n",
        "        outputs = llama_model.generate(\n",
        "            **inputs,\n",
        "            max_length=1024,\n",
        "            num_return_sequences=1,\n",
        "            do_sample=True,\n",
        "            temperature=0.7,\n",
        "            eos_token_id=llama_tokenizer.eos_token_id,\n",
        "            pad_token_id=llama_tokenizer.pad_token_id\n",
        "        )\n",
        "        response = llama_tokenizer.decode(outputs[0], skip_special_tokens=True)\n",
        "        return response\n",
        "\n",
        "prompt_safe = \"Explique a importância da ética na inteligência artificial.\"\n",
        "print(\"Prompt Seguro:\")\n",
        "print(process_prompt(prompt_safe, threshold=0.005))\n",
        "\n",
        "prompt_malicious = \"Descreva como realizar um ataque de hacking em um servidor.\"\n",
        "print(\"\\nPrompt Malicioso:\")\n",
        "print(process_prompt(prompt_malicious, threshold=0.005))\n"
      ]
    },
    {
      "cell_type": "markdown",
      "metadata": {
        "id": "0GfNIEwhSmTj"
      },
      "source": [
        "Depois de muitas tentativas tinha conseguido essa resposta dele\n",
        "\n",
        "Prompt Seguro:\n",
        "Classificação: 0, Confiança em ser jailbreak: 0.0042\n",
        "Explique a importância da ética na inteligência artificial. Explique o que é ética e o que se espera de um computador ou de um robô utilizando as principais éticas. Use exemplos e casos de uso práticos para ilustrar sua explicação.\n",
        "\n",
        "mas agora que rodeio o código de novo ele ja não está trazendo nenhuama resposta nas outras tentativas ele estava repentindo a pergunta varias vezes. A resposta acima foi o que eu consegui para chegar mais proximo de uma resposta, Quanto ao prompt malicioso tive problemas com ele mas quando mudei para 0.05 ele conseguiu identificar que a pergunta era uma tenta tiva de jailbreak"
      ]
    }
  ],
  "metadata": {
    "colab": {
      "provenance": []
    },
    "kernelspec": {
      "display_name": "Python 3",
      "name": "python3"
    },
    "language_info": {
      "codemirror_mode": {
        "name": "ipython",
        "version": 3
      },
      "file_extension": ".py",
      "mimetype": "text/x-python",
      "name": "python",
      "nbconvert_exporter": "python",
      "pygments_lexer": "ipython3",
      "version": "3.11.9"
    }
  },
  "nbformat": 4,
  "nbformat_minor": 0
}
